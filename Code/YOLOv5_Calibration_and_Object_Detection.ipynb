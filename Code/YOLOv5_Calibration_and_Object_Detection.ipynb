{
  "nbformat": 4,
  "nbformat_minor": 0,
  "metadata": {
    "colab": {
      "name": "YOLOv5 - Calibration and Object Detection.ipynb",
      "provenance": [],
      "collapsed_sections": []
    },
    "kernelspec": {
      "name": "python3",
      "display_name": "Python 3"
    },
    "language_info": {
      "name": "python"
    },
    "accelerator": "GPU"
  },
  "cells": [
    {
      "cell_type": "code",
      "metadata": {
        "id": "OGKnDmeq-4r9",
        "colab": {
          "base_uri": "https://localhost:8080/"
        },
        "outputId": "f639eecf-e845-4ccd-d4dd-6e98c6f9c424"
      },
      "source": [
        "# Connect to Google Drive!\n",
        "from google.colab import drive\n",
        "drive.mount('/content/drive')"
      ],
      "execution_count": null,
      "outputs": [
        {
          "output_type": "stream",
          "text": [
            "Mounted at /content/drive\n"
          ],
          "name": "stdout"
        }
      ]
    },
    {
      "cell_type": "markdown",
      "metadata": {
        "id": "rpgTNEzt--De"
      },
      "source": [
        "Change working directory"
      ]
    },
    {
      "cell_type": "code",
      "metadata": {
        "id": "E9rqauRR-90J",
        "colab": {
          "base_uri": "https://localhost:8080/"
        },
        "outputId": "b09f64ec-f110-4b58-84ba-fd0e0c8e89cf"
      },
      "source": [
        "%cd /content/drive/MyDrive"
      ],
      "execution_count": null,
      "outputs": [
        {
          "output_type": "stream",
          "text": [
            "/content/drive/MyDrive\n"
          ],
          "name": "stdout"
        }
      ]
    },
    {
      "cell_type": "code",
      "metadata": {
        "id": "KnlKgXR5Z2Ke"
      },
      "source": [
        "import cv2\n",
        "import torch\n",
        "from PIL import Image\n",
        "import pandas as pd\n",
        "import sys\n",
        "import numpy as np"
      ],
      "execution_count": null,
      "outputs": []
    },
    {
      "cell_type": "code",
      "metadata": {
        "id": "N1pGPn30_9U7"
      },
      "source": [
        "file_name = \"2403_g6_sync_yolov5x6_resized_corrected\""
      ],
      "execution_count": null,
      "outputs": []
    },
    {
      "cell_type": "code",
      "metadata": {
        "id": "YdXSPGcI-Bul",
        "colab": {
          "base_uri": "https://localhost:8080/"
        },
        "outputId": "b380b14b-72dd-4151-dff5-a454d1159e18"
      },
      "source": [
        "model = torch.hub.load(\"ultralytics/yolov5\", \"yolov5x6\", force_reload=False) # Can change weights eg: yolov5s"
      ],
      "execution_count": null,
      "outputs": [
        {
          "output_type": "stream",
          "text": [
            "Using cache found in /root/.cache/torch/hub/ultralytics_yolov5_master\n"
          ],
          "name": "stderr"
        },
        {
          "output_type": "stream",
          "text": [
            "\u001b[31m\u001b[1mrequirements:\u001b[0m PyYAML>=5.3.1 not found and is required by YOLOv5, attempting auto-update...\n",
            "Requirement already satisfied: PyYAML>=5.3.1 in /usr/local/lib/python3.7/dist-packages (5.4.1)\n",
            "\n",
            "\u001b[31m\u001b[1mrequirements:\u001b[0m 1 package updated per /root/.cache/torch/hub/ultralytics_yolov5_master/requirements.txt\n",
            "\u001b[31m\u001b[1mrequirements:\u001b[0m ⚠️ \u001b[1mRestart runtime or rerun command for updates to take effect\u001b[0m\n",
            "\n"
          ],
          "name": "stdout"
        },
        {
          "output_type": "stream",
          "text": [
            "Fusing layers... \n",
            "Model Summary: 606 layers, 141755500 parameters, 0 gradients\n",
            "Adding AutoShape... \n",
            "YOLOv5 🚀 2021-5-16 torch 1.8.1+cu101 CUDA:0 (Tesla P100-PCIE-16GB, 16280.875MB)\n",
            "\n"
          ],
          "name": "stderr"
        }
      ]
    },
    {
      "cell_type": "code",
      "metadata": {
        "id": "UUWxwUbmTjUu"
      },
      "source": [
        "cap= cv2.VideoCapture(\"/content/drive/MyDrive/Bachelor Project/Videos/24032021/Processed/2403_G6_sync.mp4\")\n",
        "\n",
        "# Resized G6\n",
        "K = np.array([[875.53696495, 0, 962.77164738],\n",
        "              [0, 875.39040838, 538.76818232],\n",
        "              [0, 0, 1,]])\n",
        "\n",
        "d = np.array([-0.04141805, -0.03777076, 0.00092132, -0.00010891, 0.01265788])\n",
        "\n",
        "# Resized S7\n",
        "#K = np.array([[1.50812622e+03, 0.00000000e+00, 9.89113794e+02],\n",
        "#              [0.00000000e+00, 1.50622318e+03, 5.03874158e+02],\n",
        "#              [0.00000000e+00, 0.00000000e+00, 1.00000000e+00]])\n",
        "\n",
        "#d = np.array([4.49989117e-01, -1.51139444e+00, 1.62046172e-03, 3.92046381e-03, 1.72520519e+00])\n",
        "\n",
        "h, w = 1080, 1920\n",
        "\n",
        "newcameramatrix, roi = cv2.getOptimalNewCameraMatrix(K, d, (w,h), 1)\n",
        "\n",
        "mapx, mapy = cv2.initUndistortRectifyMap(K, d, None, newcameramatrix, (w, h), 5)"
      ],
      "execution_count": null,
      "outputs": []
    },
    {
      "cell_type": "code",
      "metadata": {
        "id": "5tiCED17mVsD",
        "colab": {
          "base_uri": "https://localhost:8080/"
        },
        "outputId": "7d1dfd44-903c-41b8-8ae6-9deb653292b9"
      },
      "source": [
        "model.classes = [1]\n",
        "\n",
        "df = pd.DataFrame(columns=[\"xmin\", \"ymin\", \"xmax\", \"ymax\", \"confidence\", \"frame_id\"])\n",
        "\n",
        "count=0\n",
        "length = int(cap.get(cv2.CAP_PROP_FRAME_COUNT))\n",
        "\n",
        "while(cap.isOpened()):\n",
        "    sys.stdout.write(\"\\r\" + f\"{count} frame of {length} - {round((count/length)*100, 2)} %\")\n",
        "    sys.stdout.flush()\n",
        "    ret, frame = cap.read()\n",
        "    if ret == False:\n",
        "        break\n",
        "    newimg = cv2.remap(frame, mapx, mapy, cv2.INTER_LINEAR)\n",
        "    results = model(newimg, size=1280) \n",
        "    count+=1\n",
        "    data = {\"xmin\": results.pandas().xyxy[0][\"xmin\"], \"ymin\": results.pandas().xyxy[0][\"ymin\"],\n",
        "            \"xmax\": results.pandas().xyxy[0][\"xmax\"], \"ymax\": results.pandas().xyxy[0][\"ymax\"],\n",
        "            \"confidence\": results.pandas().xyxy[0][\"confidence\"], \"frame_id\": count}\n",
        "\n",
        "    temp = pd.DataFrame(data=data)\n",
        "    df = pd.concat([df, temp])\n",
        "\n",
        "cap.release()\n",
        "cv2.destroyAllWindows()"
      ],
      "execution_count": null,
      "outputs": [
        {
          "output_type": "stream",
          "text": [
            "165330 frame of 165440 - 99.93 %"
          ],
          "name": "stdout"
        }
      ]
    },
    {
      "cell_type": "code",
      "metadata": {
        "id": "qEGN-dEZ_pu5"
      },
      "source": [
        "df.to_pickle(f\"/content/drive/MyDrive/{file_name}.pickle\")"
      ],
      "execution_count": null,
      "outputs": []
    },
    {
      "cell_type": "code",
      "metadata": {
        "id": "ZXVXC__vmOTD",
        "colab": {
          "base_uri": "https://localhost:8080/"
        },
        "outputId": "89ce2c5c-de8f-4bac-f71a-85313f6c0d72"
      },
      "source": [
        "img = cv2.imread(\"/content/2403_G6_sync.jpg\")\n",
        "newimg = cv2.remap(img, mapx, mapy, cv2.INTER_LINEAR)\n",
        "cv2.imwrite(\"/content/drive/MyDrive/straight_inter.jpg\", newimg)"
      ],
      "execution_count": null,
      "outputs": [
        {
          "output_type": "execute_result",
          "data": {
            "text/plain": [
              "True"
            ]
          },
          "metadata": {
            "tags": []
          },
          "execution_count": 8
        }
      ]
    }
  ]
}