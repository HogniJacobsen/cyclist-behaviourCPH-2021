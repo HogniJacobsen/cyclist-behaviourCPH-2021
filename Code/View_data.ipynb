{
 "cells": [
  {
   "cell_type": "code",
   "execution_count": 1,
   "id": "single-month",
   "metadata": {},
   "outputs": [],
   "source": [
    "import pandas as pd\n",
    "import json\n",
    "import datetime\n",
    "import numpy as np"
   ]
  },
  {
   "cell_type": "code",
   "execution_count": 2,
   "id": "divine-humor",
   "metadata": {},
   "outputs": [],
   "source": [
    "path = \"/Users/hogni/Library/Mobile Documents/com~apple~CloudDocs/Bachelor Project/Videos/Test/Data/\"\n",
    "columns = [\"frame_id\", \"timestamp\", \"counter_area\", \"ObjectClass\", \"UniqueID\", \"bearing\", \"CountingDirection\", \"Angle\"]\n",
    "counter_df = pd.read_csv(f\"{path}counterData-2021-03-10-60488f6516752f0054c6f771.csv\", names=columns)"
   ]
  },
  {
   "cell_type": "code",
   "execution_count": 3,
   "id": "cloudy-announcement",
   "metadata": {},
   "outputs": [],
   "source": [
    "counter_df = counter_df[counter_df.duplicated(subset=[\"UniqueID\"], keep=False)].sort_values(\"UniqueID\")"
   ]
  },
  {
   "cell_type": "code",
   "execution_count": 4,
   "id": "yellow-morrison",
   "metadata": {},
   "outputs": [],
   "source": [
    "counter_df['timestamp'] = pd.to_datetime(counter_df['timestamp'], format='%Y-%m-%dT%H:%M:%S.%fZ')"
   ]
  },
  {
   "cell_type": "code",
   "execution_count": 5,
   "id": "still-franklin",
   "metadata": {},
   "outputs": [],
   "source": [
    "def calculate_speed(distance, df):\n",
    "    speed_dictionary = {}\n",
    "    for index, row in df.iterrows():\n",
    "        if row[4] in speed_dictionary.keys():\n",
    "            speed_dictionary[row[4]].append(row[1])\n",
    "        else:\n",
    "            speed_dictionary[row[4]] = [row[1]]\n",
    "\n",
    "    for key, value in speed_dictionary.copy().items():\n",
    "        if value[0] > value[1]:\n",
    "            difference = (value[0]-value[1])\n",
    "        else:\n",
    "            difference = (value[1]-value[0])\n",
    "        speed_dictionary[key] = difference\n",
    "\n",
    "    for key, value in speed_dictionary.copy().items():\n",
    "        t = speed_dictionary[key].total_seconds()\n",
    "        if t == 0:\n",
    "            t = 1\n",
    "            speed_dictionary[key] = distance/t\n",
    "        else:\n",
    "            speed_dictionary[key] = distance/t\n",
    "    return speed_dictionary"
   ]
  },
  {
   "cell_type": "code",
   "execution_count": 6,
   "id": "clinical-legislature",
   "metadata": {},
   "outputs": [],
   "source": [
    "speed = calculate_speed(1, counter_df)\n",
    "\n",
    "for key, value in speed.items():\n",
    "    counter_df.loc[counter_df[\"UniqueID\"]==key, \"velocity_m/s\"]=value"
   ]
  },
  {
   "cell_type": "code",
   "execution_count": 7,
   "id": "protecting-coordination",
   "metadata": {},
   "outputs": [],
   "source": [
    "def calculate_true_heading(frame_orientation, bearing):\n",
    "    true_heading = bearing + frame_orientation\n",
    "    if true_heading > 360:\n",
    "        true_heading = true_heading - 360\n",
    "    return true_heading"
   ]
  },
  {
   "cell_type": "code",
   "execution_count": 110,
   "id": "solved-cosmetic",
   "metadata": {},
   "outputs": [
    {
     "data": {
      "text/html": [
       "<div>\n",
       "<style scoped>\n",
       "    .dataframe tbody tr th:only-of-type {\n",
       "        vertical-align: middle;\n",
       "    }\n",
       "\n",
       "    .dataframe tbody tr th {\n",
       "        vertical-align: top;\n",
       "    }\n",
       "\n",
       "    .dataframe thead th {\n",
       "        text-align: right;\n",
       "    }\n",
       "</style>\n",
       "<table border=\"1\" class=\"dataframe\">\n",
       "  <thead>\n",
       "    <tr style=\"text-align: right;\">\n",
       "      <th></th>\n",
       "      <th>frame_id</th>\n",
       "      <th>timestamp</th>\n",
       "      <th>counter_area</th>\n",
       "      <th>ObjectClass</th>\n",
       "      <th>UniqueID</th>\n",
       "      <th>bearing</th>\n",
       "      <th>CountingDirection</th>\n",
       "      <th>Angle</th>\n",
       "      <th>velocity_m/s</th>\n",
       "    </tr>\n",
       "  </thead>\n",
       "  <tbody>\n",
       "    <tr>\n",
       "      <th>0</th>\n",
       "      <td>181</td>\n",
       "      <td>2021-03-10 09:20:58.348</td>\n",
       "      <td>start</td>\n",
       "      <td>bicycle</td>\n",
       "      <td>1454</td>\n",
       "      <td>92.161079</td>\n",
       "      <td>leftright_topbottom</td>\n",
       "      <td>29.842766</td>\n",
       "      <td>8.130081</td>\n",
       "    </tr>\n",
       "    <tr>\n",
       "      <th>1</th>\n",
       "      <td>182</td>\n",
       "      <td>2021-03-10 09:20:58.471</td>\n",
       "      <td>end</td>\n",
       "      <td>bicycle</td>\n",
       "      <td>1454</td>\n",
       "      <td>93.366461</td>\n",
       "      <td>leftright_topbottom</td>\n",
       "      <td>36.530463</td>\n",
       "      <td>8.130081</td>\n",
       "    </tr>\n",
       "    <tr>\n",
       "      <th>2</th>\n",
       "      <td>208</td>\n",
       "      <td>2021-03-10 09:21:01.498</td>\n",
       "      <td>end</td>\n",
       "      <td>bicycle</td>\n",
       "      <td>1458</td>\n",
       "      <td>92.726311</td>\n",
       "      <td>leftright_topbottom</td>\n",
       "      <td>35.890313</td>\n",
       "      <td>1.000000</td>\n",
       "    </tr>\n",
       "    <tr>\n",
       "      <th>3</th>\n",
       "      <td>208</td>\n",
       "      <td>2021-03-10 09:21:01.498</td>\n",
       "      <td>start</td>\n",
       "      <td>bicycle</td>\n",
       "      <td>1458</td>\n",
       "      <td>92.726311</td>\n",
       "      <td>leftright_topbottom</td>\n",
       "      <td>30.407997</td>\n",
       "      <td>1.000000</td>\n",
       "    </tr>\n",
       "    <tr>\n",
       "      <th>4</th>\n",
       "      <td>216</td>\n",
       "      <td>2021-03-10 09:21:02.407</td>\n",
       "      <td>start</td>\n",
       "      <td>bicycle</td>\n",
       "      <td>1459</td>\n",
       "      <td>92.436648</td>\n",
       "      <td>leftright_topbottom</td>\n",
       "      <td>30.118335</td>\n",
       "      <td>4.048583</td>\n",
       "    </tr>\n",
       "    <tr>\n",
       "      <th>5</th>\n",
       "      <td>218</td>\n",
       "      <td>2021-03-10 09:21:02.654</td>\n",
       "      <td>end</td>\n",
       "      <td>bicycle</td>\n",
       "      <td>1459</td>\n",
       "      <td>93.576334</td>\n",
       "      <td>leftright_topbottom</td>\n",
       "      <td>36.740337</td>\n",
       "      <td>4.048583</td>\n",
       "    </tr>\n",
       "  </tbody>\n",
       "</table>\n",
       "</div>"
      ],
      "text/plain": [
       "   frame_id               timestamp counter_area ObjectClass  UniqueID  \\\n",
       "0       181 2021-03-10 09:20:58.348        start     bicycle      1454   \n",
       "1       182 2021-03-10 09:20:58.471          end     bicycle      1454   \n",
       "2       208 2021-03-10 09:21:01.498          end     bicycle      1458   \n",
       "3       208 2021-03-10 09:21:01.498        start     bicycle      1458   \n",
       "4       216 2021-03-10 09:21:02.407        start     bicycle      1459   \n",
       "5       218 2021-03-10 09:21:02.654          end     bicycle      1459   \n",
       "\n",
       "     bearing    CountingDirection      Angle  velocity_m/s  \n",
       "0  92.161079  leftright_topbottom  29.842766      8.130081  \n",
       "1  93.366461  leftright_topbottom  36.530463      8.130081  \n",
       "2  92.726311  leftright_topbottom  35.890313      1.000000  \n",
       "3  92.726311  leftright_topbottom  30.407997      1.000000  \n",
       "4  92.436648  leftright_topbottom  30.118335      4.048583  \n",
       "5  93.576334  leftright_topbottom  36.740337      4.048583  "
      ]
     },
     "execution_count": 110,
     "metadata": {},
     "output_type": "execute_result"
    }
   ],
   "source": [
    "counter_df.head(6)"
   ]
  },
  {
   "cell_type": "markdown",
   "id": "through-bolivia",
   "metadata": {},
   "source": [
    "# Tensorflow FNN - Predict path."
   ]
  },
  {
   "cell_type": "code",
   "execution_count": 100,
   "id": "contained-cigarette",
   "metadata": {},
   "outputs": [],
   "source": [
    "import tensorflow as tf\n",
    "from sklearn.model_selection import train_test_split"
   ]
  },
  {
   "cell_type": "code",
   "execution_count": 101,
   "id": "revolutionary-product",
   "metadata": {},
   "outputs": [],
   "source": [
    "X_vector_list = []\n",
    "temp_vector = []\n",
    "temp_id = 0\n",
    "for index, row in counter_df.iterrows():\n",
    "    if temp_id == 0:\n",
    "        temp_id = row[\"UniqueID\"]\n",
    "        temp_vector.append(row[\"bearing\"])\n",
    "    else:\n",
    "        if row[\"UniqueID\"] == temp_id:\n",
    "            temp_vector.append(row[\"bearing\"])\n",
    "            temp_vector.append(row[\"velocity_m/s\"])\n",
    "    if len(temp_vector) == 3:\n",
    "        X_vector_list.append(temp_vector)\n",
    "        temp_vector = []\n",
    "        temp_id = 0\n",
    "        \n",
    "y_vector_list = [1 ,2, 3, 4, 4, 1, 2, 1, 4, 2, 3, 4, 1, 2, 3, 4, 3]"
   ]
  },
  {
   "cell_type": "code",
   "execution_count": 102,
   "id": "innocent-conversation",
   "metadata": {},
   "outputs": [],
   "source": [
    "X_train, X_test, y_train, y_test = train_test_split(X_vector_list, y_vector_list, test_size=0.33, random_state=42)"
   ]
  },
  {
   "cell_type": "code",
   "execution_count": 103,
   "id": "beautiful-douglas",
   "metadata": {},
   "outputs": [],
   "source": [
    "depth = 5\n",
    "y_train = tf.one_hot(y_train, depth)\n",
    "y_test = tf.one_hot(y_test, depth)"
   ]
  },
  {
   "cell_type": "code",
   "execution_count": 104,
   "id": "veterinary-renewal",
   "metadata": {},
   "outputs": [],
   "source": [
    "X_train = tf.constant(X_train, dtype=tf.float32)\n",
    "X_test = tf.constant(X_test, dtype=tf.float32)"
   ]
  },
  {
   "cell_type": "code",
   "execution_count": 105,
   "id": "funny-louis",
   "metadata": {},
   "outputs": [],
   "source": [
    "model = tf.keras.models.Sequential([\n",
    "  tf.keras.layers.InputLayer(input_shape=(3,)),\n",
    "  tf.keras.layers.Dense(20, activation='relu'),\n",
    "  tf.keras.layers.Dropout(0.2),\n",
    "  tf.keras.layers.Dense(5)\n",
    "])"
   ]
  },
  {
   "cell_type": "code",
   "execution_count": 106,
   "id": "difficult-words",
   "metadata": {},
   "outputs": [],
   "source": [
    "loss_fn = tf.keras.losses.CategoricalCrossentropy(from_logits=True)"
   ]
  },
  {
   "cell_type": "code",
   "execution_count": 107,
   "id": "driving-excess",
   "metadata": {},
   "outputs": [],
   "source": [
    "model.compile(optimizer='adam',\n",
    "              loss=loss_fn,\n",
    "              metrics=['accuracy'])"
   ]
  },
  {
   "cell_type": "code",
   "execution_count": 108,
   "id": "premier-vietnamese",
   "metadata": {},
   "outputs": [
    {
     "name": "stdout",
     "output_type": "stream",
     "text": [
      "Epoch 1/5\n",
      "1/1 [==============================] - 0s 326ms/step - loss: 78.2784 - accuracy: 0.1176\n",
      "Epoch 2/5\n",
      "1/1 [==============================] - 0s 750us/step - loss: 76.4149 - accuracy: 0.1176\n",
      "Epoch 3/5\n",
      "1/1 [==============================] - 0s 621us/step - loss: 64.3880 - accuracy: 0.0588\n",
      "Epoch 4/5\n",
      "1/1 [==============================] - 0s 627us/step - loss: 82.3366 - accuracy: 0.1765\n",
      "Epoch 5/5\n",
      "1/1 [==============================] - 0s 633us/step - loss: 73.1979 - accuracy: 0.2353\n"
     ]
    },
    {
     "data": {
      "text/plain": [
       "<tensorflow.python.keras.callbacks.History at 0x28402f970>"
      ]
     },
     "execution_count": 108,
     "metadata": {},
     "output_type": "execute_result"
    }
   ],
   "source": [
    "model.fit(X, y, epochs=5)"
   ]
  },
  {
   "cell_type": "code",
   "execution_count": 109,
   "id": "undefined-kuwait",
   "metadata": {},
   "outputs": [
    {
     "name": "stdout",
     "output_type": "stream",
     "text": [
      "1/1 - 0s - loss: 56.3943 - accuracy: 0.1667\n"
     ]
    },
    {
     "data": {
      "text/plain": [
       "[56.39433288574219, 0.1666666716337204]"
      ]
     },
     "execution_count": 109,
     "metadata": {},
     "output_type": "execute_result"
    }
   ],
   "source": [
    "model.evaluate(X_test,  y_test, verbose=2)"
   ]
  },
  {
   "cell_type": "code",
   "execution_count": null,
   "id": "novel-jersey",
   "metadata": {},
   "outputs": [],
   "source": []
  }
 ],
 "metadata": {
  "kernelspec": {
   "display_name": "Python 3",
   "language": "python",
   "name": "python3"
  },
  "language_info": {
   "codemirror_mode": {
    "name": "ipython",
    "version": 3
   },
   "file_extension": ".py",
   "mimetype": "text/x-python",
   "name": "python",
   "nbconvert_exporter": "python",
   "pygments_lexer": "ipython3",
   "version": "3.8.6"
  }
 },
 "nbformat": 4,
 "nbformat_minor": 5
}
