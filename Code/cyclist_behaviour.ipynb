{
 "cells": [
  {
   "cell_type": "code",
   "execution_count": 1,
   "metadata": {
    "id": "xuKObBsQaxdR"
   },
   "outputs": [],
   "source": [
    "import pandas as pd\n",
    "import json\n",
    "import cv2\n",
    "import os\n",
    "import math\n",
    "import datetime\n",
    "import numpy as np\n",
    "from PIL import Image\n",
    "from IPython.display import clear_output"
   ]
  },
  {
   "cell_type": "code",
   "execution_count": 2,
   "metadata": {
    "id": "pcOEfWXb_jpY"
   },
   "outputs": [],
   "source": [
    "# Variables.\n",
    "# ------------------------------------------\n",
    "\n",
    "file_name = \"edi_30fps_nosudio_full\"\n",
    "\n",
    "counter_path = \"/Users/hogni/Library/Mobile Documents/com~apple~CloudDocs/Bachelor Project/Videos/09032021/Data/counterData_edi_30fps_nosudio_full.csv\"\n",
    "tracker_path = \"/Users/hogni/Library/Mobile Documents/com~apple~CloudDocs/Bachelor Project/Videos/09032021/Data/tracker_edi_30fps_nosudio_full.json\"\n",
    "video_path = \"/Users/hogni/Library/Mobile Documents/com~apple~CloudDocs/Bachelor Project/Videos/09032021/Processed/edi_30fps_nosudio_full.mp4\"\n",
    "photo_path = \"/Users/hogni/Library/Mobile Documents/com~apple~CloudDocs/Bachelor Project/Videos/09032021/Photos\"\n",
    "save_labels_path = \"/Users/hogni/Library/Mobile Documents/com~apple~CloudDocs/Bachelor Project/Videos/09032021/Data/\"\n",
    "distance = 2.6\n",
    "orientation = 130"
   ]
  },
  {
   "cell_type": "code",
   "execution_count": 3,
   "metadata": {
    "id": "ykoo9V71axru"
   },
   "outputs": [],
   "source": [
    "# Velocity Calculations\n",
    "# ------------------------------------------\n",
    "\n",
    "def calculate_velocity(distance, df):\n",
    "    \"\"\"Velocity Calculations: v = S/t \"\"\"\n",
    "    velocit_dictionary = {}\n",
    "    for index, row in df.iterrows():\n",
    "        if row[4] in velocit_dictionary.keys():\n",
    "            velocit_dictionary[row[4]].append(row[1])\n",
    "        else:\n",
    "            velocit_dictionary[row[4]] = [row[1]]\n",
    "\n",
    "    for key, value in velocit_dictionary.copy().items():\n",
    "        if value[0] > value[1]:\n",
    "            difference = (value[0]-value[1])\n",
    "        else:\n",
    "            difference = (value[1]-value[0])\n",
    "        velocit_dictionary[key] = difference\n",
    "\n",
    "    for key, value in velocit_dictionary.copy().items():\n",
    "        t = velocit_dictionary[key].total_seconds()\n",
    "        if t == 0:\n",
    "            t = 1\n",
    "            velocit_dictionary[key] = distance/t\n",
    "        else:\n",
    "            velocit_dictionary[key] = distance/t\n",
    "    return velocit_dictionary\n",
    "\n",
    "# Absolute Heading \n",
    "# ------------------------------------------\n",
    "\n",
    "def calculate_true_heading(frame_orientation, df):\n",
    "    true_heading_dictionary = {}\n",
    "    for index, row in df.iterrows():\n",
    "        true_heading = row[5] + frame_orientation\n",
    "        if true_heading > 360:\n",
    "            true_heading = true_heading - 360\n",
    "        true_heading_dictionary[row[0]] = true_heading\n",
    "    return true_heading_dictionary\n",
    "\n",
    "# Init DataFrames\n",
    "# ------------------------------------------\n",
    "\n",
    "# Counter\n",
    "def create_counter_df(path, distance, orientation):\n",
    "    \"\"\"Read and format counter df\"\"\"\n",
    "    columns = [\"frameId\", \"timestamp\", \"counter_area\", \"ObjectClass\", \n",
    "            \"UniqueID\", \"bearing_og\", \"countingDirection\", \"angle\"]\n",
    "\n",
    "    counter = pd.read_csv(path, names=columns)\n",
    "    counter = counter[counter.duplicated(subset=[\"UniqueID\"], keep=False)].sort_values(\"UniqueID\")\n",
    "    counter['timestamp'] = pd.to_datetime(counter['timestamp'], format='%Y-%m-%dT%H:%M:%S.%fZ')\n",
    "    counter = add_velocity_to_df(distance, counter)\n",
    "    counter = add_true_heading_to_df(orientation, counter)\n",
    "    return counter\n",
    "\n",
    "def add_velocity_to_df(distance, counter_df):\n",
    "    \"\"\" Calculates speeds (and append to df) speeds: {UniqueID: velocity} \"\"\"\n",
    "    speeds = calculate_velocity(distance, counter_df)\n",
    "    for key, value in speeds.items():\n",
    "        counter_df.loc[counter_df[\"UniqueID\"]==key, \"velocity\"]=value\n",
    "    return counter_df\n",
    "\n",
    "def add_true_heading_to_df(orientation, counter_df):\n",
    "    \"\"\" Calculates true heading (and append to df): {frameId: true_heading} \"\"\"\n",
    "    true_heading = calculate_true_heading(orientation, counter_df)\n",
    "    for key, value in true_heading.items():\n",
    "        counter_df.loc[counter_df[\"frameId\"]==key, \"true_heading\"]=value\n",
    "    return counter_df\n",
    "\n",
    "# Tracker\n",
    "def create_tracker_df(tracker_path):\n",
    "    with open(tracker_path) as f:\n",
    "        tracker = json.load(f)\n",
    "    tracker_flattend = pd.json_normalize(tracker, record_path='objects', meta=['frameId']).rename(columns={'id': 'UniqueID'})\n",
    "    tracker_flattend = tracker_flattend.drop_duplicates(subset=['UniqueID', 'frameId'], keep='first')\n",
    "    return tracker_flattend\n",
    "\n",
    "# Merge counter and tracker\n",
    "# ------------------------------------------\n",
    "\n",
    "def merge_counter_and_tracker_df(counter_path, tracker_path, distance, orientation):\n",
    "    counter_df = create_counter_df(counter_path, distance, orientation)\n",
    "    tracker_df = create_tracker_df(tracker_path)\n",
    "    return pd.merge(counter_df, tracker_df, on=[\"UniqueID\", \"frameId\"], how=\"left\")"
   ]
  },
  {
   "cell_type": "code",
   "execution_count": 4,
   "metadata": {
    "id": "O2pJ65_2a8aF"
   },
   "outputs": [],
   "source": [
    "# Image Generation\n",
    "# ------------------------------------------\n",
    "\n",
    "def save_frame(frame_number, source, arrows=None):\n",
    "    vc = cv2.VideoCapture(source)\n",
    "    vc.set(cv2.CAP_PROP_POS_FRAMES, frame_number)\n",
    "    rval, frame = vc.read()\n",
    "    if arrows != None:\n",
    "        for a in arrows:\n",
    "            frame = cv2.arrowedLine(frame, a['start'], a['end'], (0,0,255), thickness=8, tipLength=0.6)\n",
    "        cv2.imwrite(f\"{photo_path}/{str(frame_number)}.jpg\", frame)\n",
    "\n",
    "def get_arrow(obj):\n",
    "    x, y = obj['x'], obj['y']\n",
    "    angle = obj['bearing_og']\n",
    "    speed = obj['velocity']\n",
    "    a = 30 * speed * math.sin(math.radians(angle))\n",
    "    b = 30 * speed * math.cos(math.radians(angle))\n",
    "    return {'start': (int(x), int(y)), 'end': (int(x+a), int(y+b))}\n",
    "\n",
    "# Stich images together.\n",
    "# ------------------------------------------\n",
    "\n",
    "def get_image_pairs(merged_df):\n",
    "    image_pairs_dict = {}\n",
    "    for index, row in merged_df.iterrows():\n",
    "        if row[4] in image_pairs_dict:\n",
    "            image_pairs_dict[row[\"UniqueID\"]].append(row[\"frameId\"])\n",
    "        else:\n",
    "            image_pairs_dict[row[\"UniqueID\"]] = [row[\"frameId\"]]\n",
    "    return image_pairs_dict\n",
    "\n",
    "def merge_images(photo_path):\n",
    "    image_pairs_dict = get_image_pairs(merged_df)\n",
    "    for key, value in image_pairs_dict.items():\n",
    "        image1 = Image.open(f\"{photo_path}/{value[0]}.jpg\")\n",
    "        image2 = Image.open(f\"{photo_path}/{value[1]}.jpg\")\n",
    "\n",
    "        (width1, height1) = image1.size\n",
    "\n",
    "        result_width = width1 * 2\n",
    "        result_height = height1\n",
    "\n",
    "        result = Image.new('RGB', (result_width, result_height))\n",
    "        result.paste(im=image1, box=(0, 0))\n",
    "        result.paste(im=image2, box=(width1, 0))\n",
    "        result.save(f\"{photo_path}/Merged/{key}.jpg\")\n",
    "\n",
    "def make_all_images(video_path, photo_path, merged_df):\n",
    "    for _, row in merged_df.iterrows():\n",
    "        save_frame(row['frameId'], video_path, arrows=[get_arrow(row)])\n",
    "    merge_images(photo_path)\n",
    "    return \"Completed\"\n"
   ]
  },
  {
   "cell_type": "code",
   "execution_count": 5,
   "metadata": {
    "id": "rNPPEcVrXQO_"
   },
   "outputs": [],
   "source": [
    "# Make df and pictures\n",
    "merged_df = merge_counter_and_tracker_df(counter_path, tracker_path, distance, orientation)"
   ]
  },
  {
   "cell_type": "code",
   "execution_count": null,
   "metadata": {},
   "outputs": [],
   "source": [
    "make_all_images(video_path, photo_path, merged_df)"
   ]
  },
  {
   "cell_type": "markdown",
   "metadata": {
    "id": "A6i0bNeScqxf"
   },
   "source": [
    "## Tag pictures"
   ]
  },
  {
   "cell_type": "code",
   "execution_count": 6,
   "metadata": {
    "id": "YnNFfKZhbMQo"
   },
   "outputs": [],
   "source": [
    "def show_pictures(photo_path, unique_id):\n",
    "    path = f\"{photo_path}/Merged\"\n",
    "    img = Image.open(f\"{path}/{unique_id}.jpg\")\n",
    "    return display(img)\n",
    "\n",
    "\n",
    "def label_photos(photo_path, merged_df):\n",
    "    unique_id_set = set()\n",
    "    labels_dict = {}\n",
    "    for index, row in merged_df.iterrows():\n",
    "        unique_id_set.add(row[\"UniqueID\"])\n",
    "    \n",
    "    for i in unique_id_set:\n",
    "        show_pictures(photo_path, i)\n",
    "        path = input(\"Path: \")\n",
    "        mode = input(\"Mode: \")\n",
    "        labels_dict[i] = (path, mode)\n",
    "        clear_output(wait=True)\n",
    "    return labels_dict"
   ]
  },
  {
   "cell_type": "code",
   "execution_count": 24,
   "metadata": {},
   "outputs": [
    {
     "output_type": "error",
     "ename": "NameError",
     "evalue": "name 'labels' is not defined",
     "traceback": [
      "\u001b[0;31m---------------------------------------------------------------------------\u001b[0m",
      "\u001b[0;31mNameError\u001b[0m                                 Traceback (most recent call last)",
      "\u001b[0;32m<ipython-input-24-c561d3bd51f8>\u001b[0m in \u001b[0;36m<module>\u001b[0;34m\u001b[0m\n\u001b[0;32m----> 1\u001b[0;31m \u001b[0mlabels\u001b[0m \u001b[0;34m=\u001b[0m \u001b[0mlabel_photos\u001b[0m\u001b[0;34m(\u001b[0m\u001b[0mphoto_path\u001b[0m\u001b[0;34m,\u001b[0m \u001b[0mmerged_df\u001b[0m\u001b[0;34m)\u001b[0m\u001b[0;34m\u001b[0m\u001b[0;34m\u001b[0m\u001b[0m\n\u001b[0m",
      "\u001b[0;32m<ipython-input-23-9e60d330c3b6>\u001b[0m in \u001b[0;36mlabel_photos\u001b[0;34m(photo_path, merged_df)\u001b[0m\n\u001b[1;32m     17\u001b[0m         \u001b[0mlabels_dict\u001b[0m\u001b[0;34m[\u001b[0m\u001b[0mi\u001b[0m\u001b[0;34m]\u001b[0m \u001b[0;34m=\u001b[0m \u001b[0;34m(\u001b[0m\u001b[0mpath\u001b[0m\u001b[0;34m,\u001b[0m \u001b[0mmode\u001b[0m\u001b[0;34m)\u001b[0m\u001b[0;34m\u001b[0m\u001b[0;34m\u001b[0m\u001b[0m\n\u001b[1;32m     18\u001b[0m         \u001b[0mclear_output\u001b[0m\u001b[0;34m(\u001b[0m\u001b[0mwait\u001b[0m\u001b[0;34m=\u001b[0m\u001b[0;32mTrue\u001b[0m\u001b[0;34m)\u001b[0m\u001b[0;34m\u001b[0m\u001b[0;34m\u001b[0m\u001b[0m\n\u001b[0;32m---> 19\u001b[0;31m     \u001b[0;32mreturn\u001b[0m \u001b[0mlabels\u001b[0m\u001b[0;34m\u001b[0m\u001b[0;34m\u001b[0m\u001b[0m\n\u001b[0m",
      "\u001b[0;31mNameError\u001b[0m: name 'labels' is not defined"
     ]
    }
   ],
   "source": [
    "labels = label_photos(photo_path, merged_df)"
   ]
  },
  {
   "cell_type": "code",
   "execution_count": null,
   "metadata": {
    "id": "NaEeCqomfiSC"
   },
   "outputs": [],
   "source": [
    "def add_labels_df(labels, merged_df):\n",
    "    for key, value in labels.items():\n",
    "        merged_df.loc[merged_df[\"UniqueID\"]==key, \"path\"]=value[0]\n",
    "        merged_df.loc[merged_df[\"UniqueID\"]==key, \"mode\"]=value[1]\n",
    "    return merged_df\n",
    "\n",
    "def save_labels(labels, file_name, save_labels_path):\n",
    "    json = json.dumps(labels)\n",
    "    f = open(f\"save_labels_path{file_name}_labels.json\",\"w\")\n",
    "    f.write(json)\n",
    "    f.close()\n",
    "    return \"saved\"\n",
    "\n",
    "merged_df = add_labels_df(labels, merged_df)\n",
    "save_labels(labels, file_name, save_labels_path)"
   ]
  }
 ],
 "metadata": {
  "colab": {
   "authorship_tag": "ABX9TyP+20xGmDFF1LJlX58YocUi",
   "collapsed_sections": [],
   "include_colab_link": true,
   "mount_file_id": "1eqU3ZQVqOVHpaishPC0gHhkHDdSB_c3F",
   "name": "cyclist_behaviour.ipynb",
   "private_outputs": true,
   "provenance": []
  },
  "kernelspec": {
   "display_name": "Python 3",
   "language": "python",
   "name": "python3"
  },
  "language_info": {
   "codemirror_mode": {
    "name": "ipython",
    "version": 3
   },
   "file_extension": ".py",
   "mimetype": "text/x-python",
   "name": "python",
   "nbconvert_exporter": "python",
   "pygments_lexer": "ipython3",
   "version": "3.9.2-final"
  }
 },
 "nbformat": 4,
 "nbformat_minor": 1
}