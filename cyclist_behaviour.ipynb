{
  "nbformat": 4,
  "nbformat_minor": 0,
  "metadata": {
    "colab": {
      "name": "cyclist_behaviour.ipynb",
      "private_outputs": true,
      "provenance": [],
      "collapsed_sections": [],
      "mount_file_id": "1eqU3ZQVqOVHpaishPC0gHhkHDdSB_c3F",
      "authorship_tag": "ABX9TyP+20xGmDFF1LJlX58YocUi",
      "include_colab_link": true
    },
    "kernelspec": {
      "name": "python3",
      "display_name": "Python 3"
    }
  },
  "cells": [
    {
      "cell_type": "markdown",
      "metadata": {
        "id": "view-in-github",
        "colab_type": "text"
      },
      "source": [
        "<a href=\"https://colab.research.google.com/github/edibegovic/cyclist-behaviourCPH-2021/blob/BarringVisuals/cyclist_behaviour.ipynb\" target=\"_parent\"><img src=\"https://colab.research.google.com/assets/colab-badge.svg\" alt=\"Open In Colab\"/></a>"
      ]
    },
    {
      "cell_type": "code",
      "metadata": {
        "id": "xuKObBsQaxdR"
      },
      "source": [
        "import pandas as pd\n",
        "import json\n",
        "import cv2\n",
        "import os\n",
        "import math\n",
        "import datetime\n",
        "import numpy as np\n",
        "from PIL import Image"
      ],
      "execution_count": null,
      "outputs": []
    },
    {
      "cell_type": "code",
      "metadata": {
        "id": "pcOEfWXb_jpY"
      },
      "source": [
        "# Variables.\n",
        "# ------------------------------------------\n",
        "\n",
        "counter_path = \"/content/drive/MyDrive/counterData-edi_30fps_nosudio_full.csv\"\n",
        "tracker_path = \"/content/drive/MyDrive/tracker_edi_30fps_nosudio_full.json\"\n",
        "video_path = \"/content/drive/MyDrive/edi_30fps_nosudio_full.mp4\"\n",
        "photo_path = \"/content/drive/MyDrive/Photos\"\n",
        "distance = 2.6\n",
        "orientation = 200"
      ],
      "execution_count": null,
      "outputs": []
    },
    {
      "cell_type": "code",
      "metadata": {
        "id": "ykoo9V71axru"
      },
      "source": [
        "# Velocity Calculations\n",
        "# ------------------------------------------\n",
        "\n",
        "def calculate_velocity(distance, df):\n",
        "    \"\"\"Velocity Calculations: v = S/t \"\"\"\n",
        "    velocit_dictionary = {}\n",
        "    for index, row in df.iterrows():\n",
        "        if row[4] in velocit_dictionary.keys():\n",
        "            velocit_dictionary[row[4]].append(row[1])\n",
        "        else:\n",
        "            velocit_dictionary[row[4]] = [row[1]]\n",
        "\n",
        "    for key, value in velocit_dictionary.copy().items():\n",
        "        if value[0] > value[1]:\n",
        "            difference = (value[0]-value[1])\n",
        "        else:\n",
        "            difference = (value[1]-value[0])\n",
        "        velocit_dictionary[key] = difference\n",
        "\n",
        "    for key, value in velocit_dictionary.copy().items():\n",
        "        t = velocit_dictionary[key].total_seconds()\n",
        "        if t == 0:\n",
        "            t = 1\n",
        "            velocit_dictionary[key] = distance/t\n",
        "        else:\n",
        "            velocit_dictionary[key] = distance/t\n",
        "    return velocit_dictionary\n",
        "\n",
        "# Absolute Heading \n",
        "# ------------------------------------------\n",
        "\n",
        "def calculate_true_heading(frame_orientation, df):\n",
        "    true_heading_dictionary = {}\n",
        "    for index, row in df.iterrows():\n",
        "        true_heading = row[5] + frame_orientation\n",
        "        if true_heading > 360:\n",
        "            true_heading = true_heading - 360\n",
        "        true_heading_dictionary[row[0]] = true_heading\n",
        "    return true_heading_dictionary\n",
        "\n",
        "# Init DataFrames\n",
        "# ------------------------------------------\n",
        "\n",
        "# Counter\n",
        "def create_counter_df(path, distance, orientation):\n",
        "    \"\"\"Read and format counter df\"\"\"\n",
        "    columns = [\"frameId\", \"timestamp\", \"counter_area\", \"ObjectClass\", \n",
        "            \"UniqueID\", \"bearing_og\", \"countingDirection\", \"angle\"]\n",
        "\n",
        "    counter = pd.read_csv(path, names=columns)\n",
        "    counter = counter[counter.duplicated(subset=[\"UniqueID\"], keep=False)].sort_values(\"UniqueID\")\n",
        "    counter['timestamp'] = pd.to_datetime(counter['timestamp'], format='%Y-%m-%dT%H:%M:%S.%fZ')\n",
        "    counter = add_velocity_to_df(distance, counter)\n",
        "    counter = add_true_heading_to_df(orientation, counter)\n",
        "    return counter\n",
        "\n",
        "def add_velocity_to_df(distance, counter_df):\n",
        "    \"\"\" Calculates speeds (and append to df) speeds: {UniqueID: velocity} \"\"\"\n",
        "    speeds = calculate_velocity(distance, counter_df)\n",
        "    for key, value in speeds.items():\n",
        "        counter_df.loc[counter_df[\"UniqueID\"]==key, \"velocity\"]=value\n",
        "    return counter_df\n",
        "\n",
        "def add_true_heading_to_df(orientation, counter_df):\n",
        "    \"\"\" Calculates true heading (and append to df): {frameId: true_heading} \"\"\"\n",
        "    true_heading = calculate_true_heading(orientation, counter_df)\n",
        "    for key, value in true_heading.items():\n",
        "        counter_df.loc[counter_df[\"frameId\"]==key, \"true_heading\"]=value\n",
        "    return counter_df\n",
        "\n",
        "# Tracker\n",
        "def create_tracker_df(tracker_path):\n",
        "    with open(tracker_path) as f:\n",
        "        tracker = json.load(f)\n",
        "    tracker_flattend = pd.json_normalize(tracker, record_path='objects', meta=['frameId']).rename(columns={'id': 'UniqueID'})\n",
        "    tracker_flattend = tracker_flattend.drop_duplicates(subset=['UniqueID', 'frameId'], keep='first')\n",
        "    return tracker_flattend\n",
        "\n",
        "# Merge counter and tracker\n",
        "# ------------------------------------------\n",
        "\n",
        "def merge_counter_and_tracker_df(counter_path, tracker_path, distance, orientation):\n",
        "    counter_df = create_counter_df(counter_path, distance, orientation)\n",
        "    tracker_df = create_tracker_df(tracker_path)\n",
        "    return pd.merge(counter_df, tracker_df, on=[\"UniqueID\", \"frameId\"], how=\"left\")"
      ],
      "execution_count": null,
      "outputs": []
    },
    {
      "cell_type": "code",
      "metadata": {
        "id": "O2pJ65_2a8aF"
      },
      "source": [
        "# Image Generation\n",
        "# ------------------------------------------\n",
        "\n",
        "def save_frame(frame_number, source, arrows=None):\n",
        "    vc = cv2.VideoCapture(source)\n",
        "    vc.set(cv2.CAP_PROP_POS_FRAMES, frame_number)\n",
        "    rval, frame = vc.read()\n",
        "    if arrows != None:\n",
        "        for a in arrows:\n",
        "            frame = cv2.arrowedLine(frame, a['start'], a['end'], (0,0,255), thickness=8, tipLength=0.6)\n",
        "        cv2.imwrite(f\"{photo_path}/{str(frame_number)}.jpg\", frame)\n",
        "\n",
        "def get_arrow(obj):\n",
        "    x, y = obj['x'], obj['y']\n",
        "    angle = obj['bearing_og']\n",
        "    speed = obj['velocity']\n",
        "    a = 30 * speed * math.sin(math.radians(angle))\n",
        "    b = 30 * speed * math.cos(math.radians(angle))\n",
        "    return {'start': (int(x), int(y)), 'end': (int(x+a), int(y+b))}\n",
        "\n",
        "# Stich images together.\n",
        "# ------------------------------------------\n",
        "\n",
        "def get_image_pairs(merged_df):\n",
        "    image_pairs_dict = {}\n",
        "    for index, row in merged_df.iterrows():\n",
        "        if row[4] in image_pairs_dict:\n",
        "            image_pairs_dict[row[\"UniqueID\"]].append(row[\"frameId\"])\n",
        "        else:\n",
        "            image_pairs_dict[row[\"UniqueID\"]] = [row[\"frameId\"]]\n",
        "    return image_pairs_dict\n",
        "\n",
        "def merge_images(photo_path):\n",
        "    image_pairs_dict = get_image_pairs(merged_df)\n",
        "    for key, value in image_pairs_dict.items():\n",
        "        image1 = Image.open(f\"{photo_path}/{value[0]}.jpg\")\n",
        "        image2 = Image.open(f\"{photo_path}/{value[1]}.jpg\")\n",
        "\n",
        "        (width1, height1) = image1.size\n",
        "\n",
        "        result_width = width1 * 2\n",
        "        result_height = height1\n",
        "\n",
        "        result = Image.new('RGB', (result_width, result_height))\n",
        "        result.paste(im=image1, box=(0, 0))\n",
        "        result.paste(im=image2, box=(width1, 0))\n",
        "        result.save(f\"{photo_path}/Merged/{key}.jpg\")\n",
        "\n",
        "def make_all_images(video_path, photo_path, merged_df):\n",
        "    for _, row in merged_df.iterrows():\n",
        "        save_frame(row['frameId'], video_path, arrows=[get_arrow(row)])\n",
        "    merge_images(photo_path)\n",
        "    return \"Completed\"\n"
      ],
      "execution_count": null,
      "outputs": []
    },
    {
      "cell_type": "code",
      "metadata": {
        "id": "rNPPEcVrXQO_"
      },
      "source": [
        "# Make df and pictures\n",
        "\n",
        "merged_df = merge_counter_and_tracker_df(counter_path, tracker_path, distance, orientation)\n",
        "make_all_images(video_path, photo_path, merged_df)"
      ],
      "execution_count": null,
      "outputs": []
    },
    {
      "cell_type": "markdown",
      "metadata": {
        "id": "A6i0bNeScqxf"
      },
      "source": [
        "## Tag pictures"
      ]
    },
    {
      "cell_type": "code",
      "metadata": {
        "id": "YnNFfKZhbMQo"
      },
      "source": [
        "def show_pictures(photo_path, unique_id):\n",
        "    path = f\"{photo_path}/Merged\"\n",
        "    img = Image.open(f\"{path}/{unique_id}.jpg\")\n",
        "    return display(img)\n",
        "\n",
        "\n",
        "def label_photos(photo_path, merged_df):\n",
        "    unique_id_set = set()\n",
        "    tagged_dict = {}\n",
        "    for index, row in merged_df.iterrows():\n",
        "        unique_id_set.add(row[\"UniqueID\"])\n",
        "    \n",
        "    for i in unique_id_set:\n",
        "        show_pictures(photo_path, i)\n",
        "        label = input(\"input label for iamge: \")\n",
        "        tagged_dict[i] = label\n",
        "    return tagged_dict"
      ],
      "execution_count": null,
      "outputs": []
    },
    {
      "cell_type": "code",
      "metadata": {
        "id": "lh1gRpmofhqw"
      },
      "source": [
        "label_photos(photo_path, merged_df)"
      ],
      "execution_count": null,
      "outputs": []
    },
    {
      "cell_type": "code",
      "metadata": {
        "id": "NaEeCqomfiSC"
      },
      "source": [
        "json = json.dumps(tagged_dict)\n",
        "f = open(\"tagged.json\",\"w\")\n",
        "f.write(json)\n",
        "f.close()"
      ],
      "execution_count": null,
      "outputs": []
    }
  ]
}